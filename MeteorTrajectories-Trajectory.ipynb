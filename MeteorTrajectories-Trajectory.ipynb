{
 "cells": [
  {
   "cell_type": "markdown",
   "metadata": {},
   "source": [
    "# Predicting Meteoroid Conditions"
   ]
  },
  {
   "cell_type": "markdown",
   "metadata": {},
   "source": [
    "## Preliminar"
   ]
  },
  {
   "cell_type": "code",
   "execution_count": 1,
   "metadata": {},
   "outputs": [],
   "source": [
    "import numpy as np\n",
    "from matplotlib import pyplot as plt\n",
    "import pandas as pd\n",
    "from scipy.optimize import minimize,bisect\n",
    "from scipy.interpolate import interp1d as interpolate\n",
    "from scipy.integrate import quad as integrate\n",
    "import statistics as stats\n",
    "import spiceypy as spy\n",
    "from copy import deepcopy\n",
    "from mpl_toolkits.basemap import Basemap as Map,shiftgrid as Grid\n",
    "from tqdm import tqdm\n",
    "from scipy.stats import linregress\n",
    "from glob import glob\n",
    "from datetime import datetime\n",
    "%matplotlib nbagg\n",
    "\n",
    "#Routines\n",
    "def ipercs(xs,ps,qpercs):\n",
    "    \"\"\"\n",
    "    Compute percentiles from a numerical normalized distribution ps\n",
    "    \"\"\"\n",
    "    Ps=np.array([ps[:i].sum() for i in range(len(ps))])\n",
    "    fi=interpolate(Ps,xs)\n",
    "    return fi(np.array(qpercs)/100.0)\n",
    "\n",
    "#Routines to convert from local to body systems and viceversa\n",
    "def loc2rec(vp,distance,Az,h):\n",
    "    \"\"\"\n",
    "    Convert distance, azimuth and elevation to position w.r.t. Earth\n",
    "    vp (dictionary): Vantage point.  It should have: lon, lat, alt\n",
    "    distance: km\n",
    "    Az: deg\n",
    "    h: deg\n",
    "    \"\"\"\n",
    "    rlocal=spy.latrec(distance,Az*DEG,h*DEG)\n",
    "    rpos=spy.mxv(vp[\"l2b\"],rlocal)+vp[\"geopos\"]\n",
    "    return rpos\n",
    "\n",
    "\n",
    "def rec2loc(vp,rpos):\n",
    "    \"\"\"\n",
    "    Convert position w.r.t. Earth to distance, Azimuth and elevation\n",
    "    distance: km\n",
    "    Az: deg\n",
    "    h: deg\n",
    "    \"\"\"\n",
    "    rrel=rpos-vp[\"geopos\"]\n",
    "    rlocal=spy.mxv(vp[\"b2l\"],rrel)\n",
    "    distance,Az,h=spy.reclat(rlocal)\n",
    "    Az=2*np.pi+Az if Az<0 else Az\n",
    "    return distance,Az*RAD,h*RAD\n",
    "\n",
    "def recv2loc(vp,rpos):\n",
    "    \"\"\"\n",
    "    Convert position w.r.t. Earth to distance, Azimuth and elevation\n",
    "    distance: km\n",
    "    Az: deg\n",
    "    h: deg\n",
    "    \"\"\"\n",
    "    rrel=rpos\n",
    "    rlocal=spy.mxv(vp[\"b2l\"],rrel)\n",
    "    distance,Az,h=spy.reclat(rlocal)\n",
    "    Az=2*np.pi+Az if Az<0 else Az\n",
    "    return distance,Az*RAD,h*RAD\n",
    "\n",
    "def updateVantagePoint(vp):\n",
    "    \"\"\"\n",
    "    Compute related geometrical properties of a vantage point\n",
    "    \"\"\"\n",
    "    vp[\"geopos\"]=spy.georec(vp[\"lon\"]*DEG,vp[\"lat\"]*DEG,vp[\"alt\"],RE,F)\n",
    "    normal=spy.surfnm(RE,RE,RP,vp[\"geopos\"])\n",
    "    uy=spy.ucrss(np.array([0,0,1]),normal)\n",
    "    ux=spy.ucrss(normal,uy)\n",
    "    vp[\"l2b\"]=np.array(np.vstack((ux,uy,normal)).transpose().tolist())\n",
    "    vp[\"b2l\"]=np.linalg.inv(vp[\"l2b\"])\n",
    "    \n",
    "def greatCircle(lon1,lat1,lon2,lat2):\n",
    "    a=np.sin((lat2-lat1)/2)**2+np.cos(lat1)*np.cos(lat2)*np.sin((lon2-lon1)/2)**2\n",
    "    gd=2*np.arctan2(np.sqrt(a),np.sqrt(1-a))\n",
    "    return gd"
   ]
  },
  {
   "cell_type": "markdown",
   "metadata": {},
   "source": [
    "### SPICE specifics"
   ]
  },
  {
   "cell_type": "code",
   "execution_count": 2,
   "metadata": {},
   "outputs": [],
   "source": [
    "BDIR=\"./\"\n",
    "spy.furnsh(BDIR+\"kernels/de430.bsp\")\n",
    "spy.furnsh(BDIR+\"kernels/naif0012.tls\")\n",
    "spy.furnsh(BDIR+\"kernels/pck00010.tpc\")\n",
    "spy.furnsh(BDIR+\"kernels/earth_070425_370426_predict.bpc\")\n",
    "spy.furnsh(BDIR+\"kernels/earth_assoc_itrf93.tf\")\n",
    "#Astronomical constants\n",
    "n,rs=spy.bodvrd(\"EARTH\",\"RADII\",3)\n",
    "RE=rs[0];RP=rs[2]\n",
    "F=(RE-RP)/RE"
   ]
  },
  {
   "cell_type": "markdown",
   "metadata": {},
   "source": [
    "### Macro and Constants"
   ]
  },
  {
   "cell_type": "code",
   "execution_count": 3,
   "metadata": {},
   "outputs": [],
   "source": [
    "#Directories\n",
    "FIGDIR=BDIR+\"figures/\"\n",
    "\n",
    "#Macros\n",
    "norm=np.linalg.norm\n",
    "DEG=np.pi/180\n",
    "RAD=1/DEG\n",
    "\n",
    "#Fitting procedure\n",
    "lengthTestTrajectory=300 #km\n",
    "npointsTestTrajectory=50"
   ]
  },
  {
   "cell_type": "markdown",
   "metadata": {},
   "source": [
    "## Impact data"
   ]
  },
  {
   "cell_type": "code",
   "execution_count": 4,
   "metadata": {},
   "outputs": [],
   "source": [
    "#Read vantage positions position\n",
    "havana=pd.read_csv(\"data/havana-observations-final.csv\",decimal=\",\")\n",
    "florida=pd.read_csv(\"data/florida-observations-final.csv\",decimal=\",\")\n",
    "pinar=pd.read_csv(\"data/pinardelrio-observations-final.csv\",decimal=\",\")\n",
    "\n",
    "#Build vantage points dictionary\n",
    "#T in C, P in kPa.  Weather data taken from historical data in : https://www.wunderground.com\n",
    "vantagePoints=dict(\n",
    "    impact=dict(\n",
    "        location=\"Impact\",\n",
    "        obstraj_nocorr=None,\n",
    "        lon=0,lat=0,alt=0,\n",
    "        Azref=0.0,\n",
    "        T=0,P=0,\n",
    "    ),\n",
    "    havana=dict(\n",
    "        location=\"Havana harbor\",\n",
    "        obstraj_nocorr=havana,\n",
    "        #lon=-82.344343,lat=23.13799,alt=0/1000.,\n",
    "        lon=-82.344328,lat=23.137768,alt=0/1000., #Improved \n",
    "        Azref=0.0,\n",
    "        T=30.0,P=101.0,\n",
    "    ),\n",
    "    florida=dict(\n",
    "        location=\"GullWing Beach Resort (Florida)\",\n",
    "        obstraj_nocorr=florida,\n",
    "        lon=-81.903596,lat=26.418871,alt=1/1000.,\n",
    "        Azref=201.6,\n",
    "        T=25.0,P=102.3,\n",
    "    ),\n",
    "    pinar=dict(\n",
    "        location=\"Pinar del Rio (Cuba)\",\n",
    "        obstraj_nocorr=pinar,\n",
    "        #lon=-83.692091,lat=22.414536,alt=48/1000.,\n",
    "        lon=-83.692107,lat=22.414545,alt=48/1000., #Improved\n",
    "        Azref=0.0,\n",
    "        T=30.0,P=101.0,\n",
    "    ),\n",
    ")\n",
    "\n",
    "#Geometrical properties of the vantage point\n",
    "for key,vp in vantagePoints.items():updateVantagePoint(vp)\n",
    "nvp=len(vantagePoints.keys())-1"
   ]
  },
  {
   "cell_type": "code",
   "execution_count": 5,
   "metadata": {},
   "outputs": [
    {
     "data": {
      "text/html": [
       "<div>\n",
       "<style scoped>\n",
       "    .dataframe tbody tr th:only-of-type {\n",
       "        vertical-align: middle;\n",
       "    }\n",
       "\n",
       "    .dataframe tbody tr th {\n",
       "        vertical-align: top;\n",
       "    }\n",
       "\n",
       "    .dataframe thead th {\n",
       "        text-align: right;\n",
       "    }\n",
       "</style>\n",
       "<table border=\"1\" class=\"dataframe\">\n",
       "  <thead>\n",
       "    <tr style=\"text-align: right;\">\n",
       "      <th></th>\n",
       "      <th>h</th>\n",
       "      <th>herr</th>\n",
       "      <th>Az</th>\n",
       "      <th>Azerr</th>\n",
       "      <th>t</th>\n",
       "    </tr>\n",
       "  </thead>\n",
       "  <tbody>\n",
       "    <tr>\n",
       "      <th>0</th>\n",
       "      <td>2.507044</td>\n",
       "      <td>0.253077</td>\n",
       "      <td>10.147311</td>\n",
       "      <td>0.110721</td>\n",
       "      <td>0.4375</td>\n",
       "    </tr>\n",
       "    <tr>\n",
       "      <th>1</th>\n",
       "      <td>2.348871</td>\n",
       "      <td>0.253077</td>\n",
       "      <td>10.202645</td>\n",
       "      <td>0.110721</td>\n",
       "      <td>0.5000</td>\n",
       "    </tr>\n",
       "    <tr>\n",
       "      <th>2</th>\n",
       "      <td>2.000890</td>\n",
       "      <td>0.253077</td>\n",
       "      <td>10.526421</td>\n",
       "      <td>0.110721</td>\n",
       "      <td>0.8125</td>\n",
       "    </tr>\n",
       "    <tr>\n",
       "      <th>3</th>\n",
       "      <td>1.621274</td>\n",
       "      <td>0.253077</td>\n",
       "      <td>10.811132</td>\n",
       "      <td>0.110721</td>\n",
       "      <td>0.9375</td>\n",
       "    </tr>\n",
       "    <tr>\n",
       "      <th>4</th>\n",
       "      <td>1.099303</td>\n",
       "      <td>0.253077</td>\n",
       "      <td>11.199208</td>\n",
       "      <td>0.110721</td>\n",
       "      <td>1.9375</td>\n",
       "    </tr>\n",
       "    <tr>\n",
       "      <th>5</th>\n",
       "      <td>0.838317</td>\n",
       "      <td>0.253077</td>\n",
       "      <td>11.452074</td>\n",
       "      <td>0.110721</td>\n",
       "      <td>2.3125</td>\n",
       "    </tr>\n",
       "  </tbody>\n",
       "</table>\n",
       "</div>"
      ],
      "text/plain": [
       "          h      herr         Az     Azerr       t\n",
       "0  2.507044  0.253077  10.147311  0.110721  0.4375\n",
       "1  2.348871  0.253077  10.202645  0.110721  0.5000\n",
       "2  2.000890  0.253077  10.526421  0.110721  0.8125\n",
       "3  1.621274  0.253077  10.811132  0.110721  0.9375\n",
       "4  1.099303  0.253077  11.199208  0.110721  1.9375\n",
       "5  0.838317  0.253077  11.452074  0.110721  2.3125"
      ]
     },
     "execution_count": 5,
     "metadata": {},
     "output_type": "execute_result"
    }
   ],
   "source": [
    "vantagePoints[\"florida\"][\"obstraj_nocorr\"]"
   ]
  },
  {
   "cell_type": "markdown",
   "metadata": {},
   "source": [
    "### Correct observations using atmospheric refraction"
   ]
  },
  {
   "cell_type": "code",
   "execution_count": 6,
   "metadata": {},
   "outputs": [],
   "source": [
    "def Ratm(ha,epsilon):\n",
    "    \"\"\"\n",
    "    Benett formula\n",
    "    See: https://en.wikipedia.org/wiki/Atmospheric_refraction\n",
    "    \"\"\"\n",
    "    R=1/np.tan((ha+7.31/(ha+4.4))*DEG)\n",
    "    return R/60.0"
   ]
  },
  {
   "cell_type": "code",
   "execution_count": 7,
   "metadata": {},
   "outputs": [
    {
     "name": "stdout",
     "output_type": "stream",
     "text": [
      "Correcting havana\n",
      "Correcting florida\n",
      "Correcting pinar\n"
     ]
    }
   ],
   "source": [
    "for key,vp in vantagePoints.items():\n",
    "    if key==\"impact\":continue\n",
    "    \n",
    "    print(f\"Correcting {key}\")\n",
    "    #Observed trajectory\n",
    "    obstraj=vp[\"obstraj_nocorr\"]\n",
    "    vp[\"obstraj\"]=deepcopy(obstraj)\n",
    "    \n",
    "    #Correction factor for atmospheric refraction\n",
    "    #See: https://en.wikipedia.org/wiki/Atmospheric_refraction, Seamundsson formula\n",
    "    epsilon=vp[\"P\"]/101.0*283./(273+vp[\"T\"])\n",
    "    #print(f\"Weather correction:{epsilon}\")\n",
    "    \n",
    "    #Atmospheric refraction\n",
    "    for ind in vp[\"obstraj_nocorr\"].index:\n",
    "        ha=vp[\"obstraj_nocorr\"].loc[ind,\"h\"]\n",
    "        #print(f\"Apparent: {ha} deg\")\n",
    "        R=Ratm(ha,epsilon)\n",
    "        h=ha-R\n",
    "        vp[\"obstraj\"].loc[ind,\"h\"]=h\n",
    "        #print(f\"True: {h}\")    "
   ]
  },
  {
   "cell_type": "code",
   "execution_count": 8,
   "metadata": {},
   "outputs": [
    {
     "data": {
      "text/plain": [
       "(          h      herr         Az     Azerr       t\n",
       " 0  2.507044  0.253077  10.147311  0.110721  0.4375\n",
       " 1  2.348871  0.253077  10.202645  0.110721  0.5000\n",
       " 2  2.000890  0.253077  10.526421  0.110721  0.8125\n",
       " 3  1.621274  0.253077  10.811132  0.110721  0.9375\n",
       " 4  1.099303  0.253077  11.199208  0.110721  1.9375\n",
       " 5  0.838317  0.253077  11.452074  0.110721  2.3125,\n",
       "           h      herr         Az     Azerr       t\n",
       " 0  2.239556  0.253077  10.147311  0.110721  0.4375\n",
       " 1  2.070962  0.253077  10.202645  0.110721  0.5000\n",
       " 2  1.697359  0.253077  10.526421  0.110721  0.8125\n",
       " 3  1.284750  0.253077  10.811132  0.110721  0.9375\n",
       " 4  0.706331  0.253077  11.199208  0.110721  1.9375\n",
       " 5  0.411044  0.253077  11.452074  0.110721  2.3125)"
      ]
     },
     "execution_count": 8,
     "metadata": {},
     "output_type": "execute_result"
    }
   ],
   "source": [
    "key=\"florida\"\n",
    "#key=\"pinar\"\n",
    "#key=\"havana\"\n",
    "vantagePoints[key][\"obstraj_nocorr\"],vantagePoints[key][\"obstraj\"]"
   ]
  },
  {
   "cell_type": "markdown",
   "metadata": {},
   "source": [
    "## Chi-square computation"
   ]
  },
  {
   "cell_type": "code",
   "execution_count": 9,
   "metadata": {},
   "outputs": [],
   "source": [
    "def chiSquare(param,vps,avoid=[],verbose=False,npoints=npointsTestTrajectory):\n",
    "    \n",
    "    #Input parameters\n",
    "    lonProj=param[0] # deg\n",
    "    latProj=param[1] # deg\n",
    "    hrad=param[2] #deg \n",
    "    Azrad=param[3] #deg\n",
    "    \n",
    "    #Impact position\n",
    "    vantagePoints[\"impact\"][\"lon\"]=lonProj\n",
    "    vantagePoints[\"impact\"][\"lat\"]=latProj\n",
    "    vantagePoints[\"impact\"][\"alt\"]=0.0\n",
    "    updateVantagePoint(vantagePoints[\"impact\"])\n",
    "    \n",
    "    #Reference Azimuth in Florida\n",
    "    vantagePoints[\"florida\"][\"Azref\"]=param[4]\n",
    "    \n",
    "    #Direction of radiant\n",
    "    r=loc2rec(vps[\"impact\"],1,Azrad,hrad)-vps[\"impact\"][\"geopos\"]\n",
    "    uimp,magn=spy.unorm(r)\n",
    "    \n",
    "    #Trajectory with this conditions\n",
    "    trajectory=np.zeros((npoints,3))\n",
    "    for i,t in enumerate(np.linspace(0,lengthTestTrajectory,npoints)):\n",
    "        trajectory[i]=uimp*t+vps[\"impact\"][\"geopos\"]\n",
    "        \n",
    "    #Az,h points of trayectory in vantage point vp\n",
    "    chi2=0\n",
    "    for key,vp in vps.items():\n",
    "        if key==\"impact\" or key in avoid:continue\n",
    "\n",
    "        #Compute theoretical trajectory\n",
    "        vp[\"theotraj\"]=np.zeros((npoints,2))\n",
    "        for i in range(len(trajectory)):\n",
    "            rpos=trajectory[i]\n",
    "            d,Az,h=rec2loc(vp,rpos)\n",
    "            vp[\"theotraj\"][i]=np.array([Az,h])\n",
    "        \n",
    "        #Compute chisquare for this vantage point\n",
    "        otraj=vp[\"obstraj\"].values\n",
    "        dAzmat=np.array([((otraj[i,2]+vp[\"Azref\"])-vp[\"theotraj\"][:,0])**2/otraj[i,3]**2 for i in range(len(otraj))])\n",
    "        dhmat=np.array([(otraj[i,0]-vp[\"theotraj\"][:,1])**2/otraj[i,1]**2 for i in range(len(otraj))])\n",
    "        dposmat=np.sqrt(dAzmat+dhmat)\n",
    "        chi=dposmat.min(axis=1).sum()\n",
    "        chi2+=(dposmat.min(axis=1).sum()) #/len(otraj)\n",
    "            \n",
    "    return chi2"
   ]
  },
  {
   "cell_type": "markdown",
   "metadata": {},
   "source": [
    "### Minimization"
   ]
  },
  {
   "cell_type": "code",
   "execution_count": 10,
   "metadata": {},
   "outputs": [
    {
     "data": {
      "text/plain": [
       "      fun: 25.950881859088085\n",
       " hess_inv: array([[ 1.15244700e-04, -2.53723646e-05, -1.19685070e-03,\n",
       "         7.72570653e-04, -1.38490378e-03],\n",
       "       [-2.53723646e-05,  7.45743065e-06,  3.06888446e-04,\n",
       "         4.52452172e-04,  3.69320574e-04],\n",
       "       [-1.19685070e-03,  3.06888446e-04,  2.45125725e-02,\n",
       "         2.31407406e-02,  1.72299807e-02],\n",
       "       [ 7.72570653e-04,  4.52452172e-04,  2.31407406e-02,\n",
       "         2.38534656e-01,  1.42814406e-02],\n",
       "       [-1.38490378e-03,  3.69320574e-04,  1.72299807e-02,\n",
       "         1.42814406e-02,  1.96110788e-02]])\n",
       "      jac: array([-1.14244556e+00, -3.52535510e+00, -1.79355145e-02,  1.38280392e-02,\n",
       "       -3.29208374e-03])\n",
       "  message: 'Desired error not necessarily achieved due to precision loss.'\n",
       "     nfev: 801\n",
       "      nit: 23\n",
       "     njev: 113\n",
       "   status: 2\n",
       "  success: False\n",
       "        x: array([-83.82644838,  22.90718073,  31.13384843, 174.09842479,\n",
       "       193.1647218 ])"
      ]
     },
     "execution_count": 10,
     "metadata": {},
     "output_type": "execute_result"
    },
    {
     "data": {
      "image/png": "[encoded data removed]",
      "text/plain": [
       "<matplotlib.figure.Figure at 0x1a24df6048>"
      ]
     },
     "metadata": {
      "needs_background": "light"
     },
     "output_type": "display_data"
    }
   ],
   "source": [
    "#Minimization\n",
    "\"\"\"\n",
    "lonProj=-83.8751101\n",
    "latProj=22.80728391\n",
    "hrad=33.0 #deg \n",
    "Azrad=175.0 #deg\n",
    "Azref=192.0 #deg\n",
    "\"\"\"\n",
    "#\"\"\"\n",
    "#MUY BUENO\n",
    "lonProj=-83.81626833\n",
    "latProj=22.8974281\n",
    "hrad=30.06190132 #deg \n",
    "Azrad=172.62676791 #deg\n",
    "Azref=193 #deg\n",
    "#\"\"\"\n",
    "\"\"\"\n",
    "lonProj=-83.81626833\n",
    "latProj=22.8974281\n",
    "hrad=30.06190132 #deg \n",
    "Azrad=175.62676791 #deg\n",
    "Azref=193.2#deg\n",
    "#\"\"\"\n",
    "\n",
    "param=[lonProj,latProj,hrad,Azrad,Azref]\n",
    "solution=minimize(chiSquare,param,args=(vantagePoints,[],False,50),options=dict(maxiter=100))\n",
    "\n",
    "#Plot solution\n",
    "fig,axs=plt.subplots(nvp,figsize=(4,6))\n",
    "i=-1\n",
    "\n",
    "for i,ax in enumerate(axs):\n",
    "    ax.set_xlabel(\"Azimuth (deg)\")\n",
    "    ax.set_ylabel(\"Elevation (deg)\")\n",
    "\n",
    "axs[0].set_title(f\"Trajectory solution: Az = {solution.x[3]:.2f}, h = {solution.x[2]:.2f}\",fontsize=10)\n",
    "\n",
    "i=-1\n",
    "for key,vp in vantagePoints.items():\n",
    "    if key==\"impact\":continue\n",
    "    i+=1\n",
    "    \n",
    "    #Plot observed points\n",
    "    axs[i].plot(vp[\"theotraj\"][:,0],vp[\"theotraj\"][:,1],'k-')\n",
    "    axs[i].errorbar(vp[\"obstraj\"][\"Az\"]+vp[\"Azref\"],vp[\"obstraj\"][\"h\"],\n",
    "                    xerr=vp[\"obstraj\"][\"Azerr\"],yerr=vp[\"obstraj\"][\"herr\"],marker='s',ms=3,ls='')\n",
    "    #axs[i].text(0.9,0.9,vp[\"location\"],ha='right',va='top',transform=axs[i].transAxes)\n",
    "\n",
    "    #Ranges\n",
    "    Azmin=(vp[\"obstraj\"][\"Az\"]+vp[\"Azref\"]).min();Azmax=(vp[\"obstraj\"][\"Az\"]+vp[\"Azref\"]).max()\n",
    "    hmin=0;hmax=vp[\"obstraj\"][\"h\"].max()\n",
    "    dAz=(Azmax-Azmin)/5.0\n",
    "    dh=(hmax-hmin)/5.0\n",
    "    \n",
    "    axs[i].set_xlim((Azmin-dAz,Azmax+dAz))\n",
    "    axs[i].set_ylim((hmin-dh,hmax+dh))\n",
    "    axs[i].grid()\n",
    "    \n",
    "fig.tight_layout()\n",
    "solution"
   ]
  },
  {
   "cell_type": "markdown",
   "metadata": {},
   "source": [
    "## Improved plot"
   ]
  },
  {
   "cell_type": "code",
   "execution_count": 11,
   "metadata": {},
   "outputs": [
    {
     "data": {
      "text/plain": [
       "41.53506220563811"
      ]
     },
     "execution_count": 11,
     "metadata": {},
     "output_type": "execute_result"
    }
   ],
   "source": [
    "param=solution.x\n",
    "#param=np.array([-83.79994535,  22.9133357 ,  30.96755727, 179.14747274, 193.21051445])\n",
    "chiSquare(param,vantagePoints,npoints=200)"
   ]
  },
  {
   "cell_type": "code",
   "execution_count": 12,
   "metadata": {},
   "outputs": [],
   "source": [
    "#Trajectory with this conditions\n",
    "npoints=200\n",
    "\n",
    "#Direction of radiant\n",
    "r=loc2rec(vantagePoints[\"impact\"],1,param[3],param[2])-vantagePoints[\"impact\"][\"geopos\"]\n",
    "uimp,magn=spy.unorm(r)\n",
    "trajectory=np.zeros((npoints,3))\n",
    "for i,t in enumerate(np.linspace(0,lengthTestTrajectory,npoints)):\n",
    "    trajectory[i]=uimp*t+vantagePoints[\"impact\"][\"geopos\"]\n",
    "\n",
    "for key,vp in vantagePoints.items():\n",
    "    if key==\"impact\":continue\n",
    "    vp[\"theotraj\"]=np.zeros((npoints,2))\n",
    "    for i in range(len(trajectory)):\n",
    "        rpos=trajectory[i]\n",
    "        d,Az,h=rec2loc(vp,rpos)\n",
    "        vp[\"theotraj\"][i]=np.array([Az,h])"
   ]
  },
  {
   "cell_type": "code",
   "execution_count": 13,
   "metadata": {},
   "outputs": [
    {
     "data": {
      "image/png": "[encoded data removed]",
      "text/plain": [
       "<matplotlib.figure.Figure at 0x1a24dd1a90>"
      ]
     },
     "metadata": {
      "needs_background": "light"
     },
     "output_type": "display_data"
    }
   ],
   "source": [
    "#Plot solution\n",
    "fig,axs=plt.subplots(nvp,figsize=(5,10))\n",
    "i=-1\n",
    "\n",
    "for i,ax in enumerate(axs):\n",
    "    ax.set_xlabel(\"Azimuth (deg)\")\n",
    "    ax.set_ylabel(\"True Elevation (deg)\")\n",
    "\n",
    "#axs[0].set_title(f\"Trajectory solution: Az = {solution.x[3]:.2f}, h = {solution.x[2]:.2f}\",fontsize=10)\n",
    "\n",
    "i=-1\n",
    "for key,vp in vantagePoints.items():\n",
    "    if key==\"impact\":continue\n",
    "    i+=1\n",
    "    \n",
    "    #Plot observed points\n",
    "    axs[i].plot(vp[\"theotraj\"][:,0],vp[\"theotraj\"][:,1],'k-')\n",
    "    axs[i].errorbar(vp[\"obstraj\"][\"Az\"]+vp[\"Azref\"],vp[\"obstraj\"][\"h\"],\n",
    "                    xerr=vp[\"obstraj\"][\"Azerr\"],yerr=vp[\"obstraj\"][\"herr\"],marker='s',ms=3,ls='',color='r')\n",
    "    axs[i].text(0.05,0.1,vp[\"location\"],ha='left',va='bottom',transform=axs[i].transAxes,fontsize=14)\n",
    "\n",
    "    #Ranges\n",
    "    Azmin=(vp[\"obstraj\"][\"Az\"]+vp[\"Azref\"]).min();Azmax=(vp[\"obstraj\"][\"Az\"]+vp[\"Azref\"]).max()\n",
    "    hmin=0;hmax=vp[\"obstraj\"][\"h\"].max()\n",
    "    dAz=(Azmax-Azmin)/10.0\n",
    "    dh=(hmax-hmin)/10.0\n",
    "    \n",
    "    axs[i].set_xlim((Azmin-dAz,Azmax+dAz))\n",
    "    axs[i].set_ylim((hmin-dh,hmax+dh))\n",
    "    axs[i].grid()\n",
    "    \n",
    "fig.savefig(FIGDIR+\"trajectory-fit.png\")\n",
    "fig.tight_layout()"
   ]
  },
  {
   "cell_type": "markdown",
   "metadata": {},
   "source": [
    "### Compute the trajectory and the foot print"
   ]
  },
  {
   "cell_type": "code",
   "execution_count": 14,
   "metadata": {},
   "outputs": [],
   "source": [
    "#Find trajectory from first sight in Havana\n",
    "vp=vantagePoints[\"havana\"]\n",
    "Azmin=(vp[\"obstraj\"][\"Az\"].values+vp[\"Azref\"]).min()\n",
    "\n",
    "#Traverse the theoretical trajectory\n",
    "dAzmin_min=1e100\n",
    "imin=0\n",
    "for i in range(len(trajectory)):\n",
    "    rpos=trajectory[i]\n",
    "    d,Az,h=rec2loc(vp,rpos)\n",
    "    dAzmin=np.abs(Az-(Azmin))\n",
    "    dAzmax=np.abs(Az-(Azmax))\n",
    "    if dAzmin<=dAzmin_min:\n",
    "        imin=i\n",
    "        dAzmin_min=dAzmin\n",
    "trajectory_sel=trajectory[0:imin]\n",
    "\n",
    "#Compute geographical positions\n",
    "traj=trajectory_sel \n",
    "trajectory_geo=[]\n",
    "for i,point in enumerate(traj):\n",
    "    lon,lat,alt=spy.recgeo(point,RE,F)\n",
    "    if alt>80:break\n",
    "    trajectory_geo+=[[lon*RAD,lat*RAD,alt]]\n",
    "trajectory_geo=np.array(trajectory_geo)"
   ]
  },
  {
   "cell_type": "code",
   "execution_count": 15,
   "metadata": {},
   "outputs": [],
   "source": [
    "trajstr=\"\"\n",
    "footprint=\"\"\n",
    "polygon=f\"\t\t\t\t{trajectory_geo[0,0]},{trajectory_geo[0,1]},0\\n\"\n",
    "for point in trajectory_geo:\n",
    "    trajstr+=f\"\t\t\t\t{point[0]},{point[1]},{point[2]*1000}\\n\"\n",
    "    footprint+=f\"\t\t\t\t{point[0]},{point[1]},0\\n\"\n",
    "    polygon+=f\"\t\t\t\t{point[0]},{point[1]},{point[2]*1000}\\n\"\n",
    "polygon+=f\"\t\t\t\t{trajectory_geo[-1,0]},{trajectory_geo[-1,1]},0\\n\"\n",
    "polygon+=f\"\t\t\t\t{trajectory_geo[0,0]},{trajectory_geo[0,1]},0\\n\"\n",
    "\n",
    "f=open(BDIR+\"data/cuba-trajectory-Zuluaga_et_al_2019.kml\",\"w\")\n",
    "f.write(f\"\"\"<?xml version=\"1.0\" encoding=\"UTF-8\"?>\n",
    "<kml xmlns=\"http://www.opengis.net/kml/2.2\" xmlns:gx=\"http://www.google.com/kml/ext/2.2\" xmlns:kml=\"http://www.opengis.net/kml/2.2\" xmlns:atom=\"http://www.w3.org/2005/Atom\">\n",
    "<Document>\n",
    "\t<name>Cuba Meteor Trajectory, Zuluaga et al. (2019)</name>\n",
    "\t<Style id=\"trajectory\">\n",
    "\t\t<IconStyle>\n",
    "\t\t</IconStyle>\n",
    "\t\t<BalloonStyle>\n",
    "\t\t</BalloonStyle>\n",
    "\t\t<LineStyle>\n",
    "\t\t\t<color>ff1bffd9</color>\n",
    "\t\t\t<width>2.5</width>\n",
    "\t\t</LineStyle>\n",
    "\t</Style>\n",
    "\t<Style id=\"footprint\">\n",
    "\t\t<IconStyle>\n",
    "\t\t</IconStyle>\n",
    "\t\t<BalloonStyle>\n",
    "\t\t</BalloonStyle>\n",
    "\t\t<LineStyle>\n",
    "\t\t\t<color>FF3611fc</color>\n",
    "\t\t\t<width>2.5</width>\n",
    "\t\t</LineStyle>\n",
    "\t</Style>\n",
    "\t<Style id=\"polygon\">\n",
    "\t\t<LineStyle>\n",
    "\t\t\t<color>7F3611fc</color>\n",
    "\t\t\t<width>0</width>\n",
    "\t\t</LineStyle>\n",
    "\t\t<PolyStyle>\n",
    "            <color>7F3611fc</color>\n",
    "            <fill>1</fill>\n",
    "\t\t</PolyStyle>\n",
    "\t</Style>\n",
    "\t<Placemark>\n",
    "\t\t<name>Trajectory</name>\n",
    "\t\t<styleUrl>trajectory</styleUrl>\n",
    "\t\t<LineString>\n",
    "\t\t\t<tessellate>1</tessellate>\n",
    "\t\t\t<altitudeMode>relativeToGround</altitudeMode>\n",
    "\t\t\t<coordinates>\n",
    "                {trajstr}\n",
    "            </coordinates>\n",
    "\t\t</LineString>\n",
    "\t</Placemark>\n",
    "\t<Placemark>\n",
    "\t\t<name>Footprint</name>\n",
    "\t\t<styleUrl>footprint</styleUrl>\n",
    "\t\t<LineString>\n",
    "\t\t\t<tessellate>1</tessellate>\n",
    "            <altitudeMode>clampToGround</altitudeMode>\n",
    "\t\t\t<coordinates>\n",
    "                {footprint}\n",
    "            </coordinates>\n",
    "\t\t</LineString>\n",
    "\t</Placemark>\n",
    "\t<Placemark>\n",
    "\t\t<name>Polygon</name>\n",
    "\t\t<styleUrl>polygon</styleUrl>\n",
    "\t\t<Polygon>\n",
    "\t\t\t<altitudeMode>relativeToGround</altitudeMode>\n",
    "\t\t\t<outerBoundaryIs>\n",
    "\t\t\t\t<LinearRing>\n",
    "\t\t\t\t\t<coordinates>\n",
    "                        {polygon}\n",
    "                    </coordinates>\n",
    "\t\t\t\t</LinearRing>\n",
    "\t\t\t</outerBoundaryIs>\n",
    "\t\t</Polygon>\n",
    "\t</Placemark>\n",
    "</Document>\n",
    "</kml>\n",
    "\"\"\")\n",
    "f.close()"
   ]
  },
  {
   "cell_type": "markdown",
   "metadata": {},
   "source": [
    "### Compute speed"
   ]
  },
  {
   "cell_type": "code",
   "execution_count": 16,
   "metadata": {},
   "outputs": [],
   "source": [
    "vp=vantagePoints[\"havana\"]\n",
    "\n",
    "#Range of interpolation\n",
    "Azmin=(vp[\"obstraj\"][\"Az\"].values+vp[\"Azref\"]).min()\n",
    "Azmax=(vp[\"obstraj\"][\"Az\"].values+vp[\"Azref\"]).max()\n",
    "tmin=vp[\"obstraj\"][\"t\"].min()\n",
    "tmax=vp[\"obstraj\"][\"t\"].max()\n",
    "\n",
    "i_ini=0;i_end=10\n",
    "Azmin=(vp[\"obstraj\"][\"Az\"].values+vp[\"Azref\"])[i_ini]\n",
    "Azmax=(vp[\"obstraj\"][\"Az\"].values+vp[\"Azref\"])[i_end]\n",
    "tmin=vp[\"obstraj\"][\"t\"][i_ini]\n",
    "tmax=vp[\"obstraj\"][\"t\"][i_end]\n",
    "\n",
    "#Traverse the theoretical trajectory\n",
    "dAzmin_min=1e100\n",
    "dAzmax_min=1e100\n",
    "imin=0;imax=0\n",
    "for i in range(len(trajectory)):\n",
    "    rpos=trajectory[i]\n",
    "    d,Az,h=rec2loc(vp,rpos)\n",
    "    dAzmin=np.abs(Az-(Azmin))\n",
    "    dAzmax=np.abs(Az-(Azmax))\n",
    "    if dAzmin<=dAzmin_min:\n",
    "        imin=i\n",
    "        dAzmin_min=dAzmin\n",
    "    if dAzmax<=dAzmax_min:\n",
    "        imax=i\n",
    "        dAzmax_min=dAzmax\n",
    "trajectory_sel=trajectory[imax:imin]"
   ]
  },
  {
   "cell_type": "markdown",
   "metadata": {},
   "source": [
    "### Interpolate points in trajectory"
   ]
  },
  {
   "cell_type": "code",
   "execution_count": 17,
   "metadata": {},
   "outputs": [],
   "source": [
    "#vp=vantagePoints[\"florida\"]\n",
    "vp=vantagePoints[\"havana\"]\n",
    "\n",
    "#Build fulltrajectory\n",
    "fulltrajectory=np.concatenate((trajectory,vp[\"theotraj\"]),axis=1)\n",
    "\n",
    "#Interpolate positions\n",
    "xfunc=interpolate(fulltrajectory[:,3],fulltrajectory[:,0])\n",
    "yfunc=interpolate(fulltrajectory[:,3],fulltrajectory[:,1])\n",
    "zfunc=interpolate(fulltrajectory[:,3],fulltrajectory[:,2])\n",
    "\n",
    "#Calculate distance cover between observed points\n",
    "spoints=np.zeros((len(vp[\"obstraj\"]),5))\n",
    "for i,point in enumerate(vp[\"obstraj\"].values):\n",
    "    Az=point[2]+vp[\"Azref\"]\n",
    "    t=point[4]\n",
    "    intpoint=[float(xfunc(Az)),float(yfunc(Az)),float(zfunc(Az))]\n",
    "    if i==0:\n",
    "        distance=0\n",
    "    else:\n",
    "        distance=norm(intpoint-spoints[0,:3])\n",
    "    spoints[i]=np.array(intpoint+[distance,t])\n",
    "    \n",
    "#Ranges\n",
    "tmin=spoints[:,4].min();tmax=spoints[:,4].max()\n",
    "\n",
    "#Perform linear regression of times and distances\n",
    "regression=linregress(spoints[:,4],spoints[:,3])\n",
    "d0=regression.intercept;vimp=regression.slope"
   ]
  },
  {
   "cell_type": "code",
   "execution_count": 18,
   "metadata": {},
   "outputs": [
    {
     "data": {
      "image/png": "[encoded data removed]",
      "text/plain": [
       "<matplotlib.figure.Figure at 0x1a253d1630>"
      ]
     },
     "metadata": {
      "needs_background": "light"
     },
     "output_type": "display_data"
    }
   ],
   "source": [
    "fig=plt.figure()\n",
    "ax=fig.gca()\n",
    "\n",
    "ax.plot(spoints[:,4],spoints[:,3],'ko')\n",
    "ts=np.linspace(tmin,tmax,100)\n",
    "ax.plot(ts,d0+vimp*ts,'b-')\n",
    "\n",
    "ax.set_xlabel(\"t (s)\",fontsize=14)\n",
    "ax.set_ylabel(\"d (km)\",fontsize=14)\n",
    "\n",
    "ax.text(0.1,0.9,r\"$\\langle v_{\\rm imp}\\rangle=%.1f$ km/s\"%vimp,transform=ax.transAxes,fontsize=16)\n",
    "\n",
    "ymin,ymax=ax.get_ylim()\n",
    "ax.set_xlim((0,tmax))\n",
    "ax.set_ylim((0,ymax))\n",
    "\n",
    "fig.tight_layout()\n",
    "fig.savefig(FIGDIR+\"impact-speed.png\")"
   ]
  },
  {
   "cell_type": "markdown",
   "metadata": {},
   "source": [
    "### LaTeX tables"
   ]
  },
  {
   "cell_type": "code",
   "execution_count": 19,
   "metadata": {},
   "outputs": [
    {
     "name": "stdout",
     "output_type": "stream",
     "text": [
      "\\hline\\multicolumn{4}{c}{Havana harbor}\\\\\\hline\n",
      "1 & 226.74 $\\pm$ 0.9 & 18.6 $\\pm$ 0.07 & 0.00 \\\\\n",
      "2 & 228.22 $\\pm$ 0.9 & 17.7 $\\pm$ 0.07 & 0.50 \\\\\n",
      "3 & 229.77 $\\pm$ 0.9 & 17.0 $\\pm$ 0.07 & 1.00 \\\\\n",
      "4 & 231.51 $\\pm$ 0.9 & 16.0 $\\pm$ 0.07 & 1.50 \\\\\n",
      "5 & 233.13 $\\pm$ 0.9 & 15.0 $\\pm$ 0.07 & 2.00 \\\\\n",
      "6 & 235.00 $\\pm$ 0.9 & 14.1 $\\pm$ 0.07 & 2.50 \\\\\n",
      "7 & 236.87 $\\pm$ 0.9 & 13.0 $\\pm$ 0.07 & 3.00 \\\\\n",
      "8 & 238.82 $\\pm$ 0.9 & 11.8 $\\pm$ 0.5 & 3.50 \\\\\n",
      "9 & 240.89 $\\pm$ 0.9 & 10.5 $\\pm$ 0.5 & 4.00 \\\\\n",
      "10 & 243.00 $\\pm$ 0.9 & 9.2 $\\pm$ 0.5 & 4.50 \\\\\n",
      "11 & 244.96 $\\pm$ 0.9 & 7.8 $\\pm$ 0.5 & 5.00 \\\\\n",
      "\\hline\\multicolumn{4}{c}{GullWing Beach Resort (Florida)}\\\\\\hline\n",
      "1 & $A_{\\rm ref}$+10.1 $\\pm$ 0.1 & 2.2 $\\pm$ 0.3 & 0.44 \\\\\n",
      "2 & $A_{\\rm ref}$+10.2 $\\pm$ 0.1 & 2.1 $\\pm$ 0.3 & 0.50 \\\\\n",
      "3 & $A_{\\rm ref}$+10.5 $\\pm$ 0.1 & 1.7 $\\pm$ 0.3 & 0.81 \\\\\n",
      "4 & $A_{\\rm ref}$+10.8 $\\pm$ 0.1 & 1.3 $\\pm$ 0.3 & 0.94 \\\\\n",
      "5 & $A_{\\rm ref}$+11.2 $\\pm$ 0.1 & 0.7 $\\pm$ 0.3 & 1.94 \\\\\n",
      "6 & $A_{\\rm ref}$+11.5 $\\pm$ 0.1 & 0.4 $\\pm$ 0.3 & 2.31 \\\\\n",
      "\\hline\\multicolumn{4}{c}{Pinar del Rio (Cuba)}\\\\\\hline\n",
      "1 & 287.61 $\\pm$ 0.1 & 76.9 $\\pm$ 5 & - \\\\\n",
      "2 & 308.32 $\\pm$ 5 & 68.2 $\\pm$ 5 & - \\\\\n",
      "3 & 318.07 $\\pm$ 5 & 57.8 $\\pm$ 5 & - \\\\\n"
     ]
    }
   ],
   "source": [
    "for key,vp in vantagePoints.items():\n",
    "    if key==\"impact\":continue\n",
    "    print(\"\\\\hline\\\\multicolumn{4}{c}{%s}\\\\\\\\\\\\hline\"%vp['location']) \n",
    "    for i,point in enumerate(vp[\"obstraj\"].values):\n",
    "        if key==\"pinar\":t=\"-\"\n",
    "        else:t=f\"{point[4]:.2f}\"\n",
    "        if key==\"florida\":Az=r\"$A_{\\rm ref}$\"+f\"+{point[2]:.1f}\"\n",
    "        else:Az=f\"{point[2]:.2f}\"            \n",
    "        #print(f\"{i+1} & %.1f $\\pm$ {point[3]:.1g} & {point[0]:.1f} $\\pm$ {point[1]:.1g} & {t} \\\\\\\\\"%(point[2]+vp[\"Azref\"]))\n",
    "        print(f\"{i+1} & {Az} $\\pm$ {point[3]:.1g} & {point[0]:.1f} $\\pm$ {point[1]:.1g} & {t} \\\\\\\\\"%(point[2]+vp[\"Azref\"]))"
   ]
  },
  {
   "cell_type": "markdown",
   "metadata": {},
   "source": [
    "### Trajectory per vantage point"
   ]
  },
  {
   "cell_type": "code",
   "execution_count": 20,
   "metadata": {},
   "outputs": [
    {
     "name": "stdout",
     "output_type": "stream",
     "text": [
      "Preparing all trajectory products for 'havana' vantage point...\n",
      "Preparing all trajectory products for 'florida' vantage point...\n",
      "Preparing all trajectory products for 'pinar' vantage point...\n",
      "Initial point of Pinar del Rio: 41\n"
     ]
    }
   ],
   "source": [
    "vantagePoints[\"havana\"][\"kmlcolor\"]=\"F04614\"\n",
    "vantagePoints[\"florida\"][\"kmlcolor\"]=\"3CBE14\"\n",
    "vantagePoints[\"pinar\"][\"kmlcolor\"]=\"5078F0\"\n",
    "\n",
    "for key,vp in vantagePoints.items():\n",
    "    if key==\"impact\":continue\n",
    "    print(f\"Preparing all trajectory products for '{key}' vantage point...\")\n",
    "    kmlcolor=vp[\"kmlcolor\"]\n",
    "    location=vp[\"location\"]\n",
    "    vplon=vp[\"lon\"]\n",
    "    vplat=vp[\"lat\"]\n",
    "    vpalt=vp[\"alt\"]*1000\n",
    "\n",
    "    #Range of interpolation\n",
    "    Azmin=(vp[\"obstraj\"][\"Az\"].values+vp[\"Azref\"]).min()\n",
    "    Azmax=(vp[\"obstraj\"][\"Az\"].values+vp[\"Azref\"]).max()\n",
    "\n",
    "    #Traverse the theoretical trajectory\n",
    "    dAzmin_min=1e100\n",
    "    dAzmax_min=1e100\n",
    "    dgreat_min=0\n",
    "    dgreat_max=0\n",
    "    dgreats=[]\n",
    "    imin=0;imax=0\n",
    "    for i in range(len(trajectory)):\n",
    "        rpos=trajectory[i]\n",
    "        d,Az,h=rec2loc(vp,rpos)\n",
    "        if i==0:\n",
    "            Azini=Az\n",
    "            hini=h\n",
    "            dgreat=0\n",
    "        else:\n",
    "            dgreat=greatCircle(Az*DEG,h*DEG,Azini*DEG,hini*DEG)*RAD\n",
    "        dgreats+=[dgreat]\n",
    "        dAzmin=np.abs(Az-(Azmin))\n",
    "        dAzmax=np.abs(Az-(Azmax))\n",
    "        if dAzmin<=dAzmin_min:\n",
    "            imin=i\n",
    "            dAzmin_min=dAzmin\n",
    "            dgreat_min=dgreat\n",
    "        if dAzmax<=dAzmax_min:\n",
    "            imax=i\n",
    "            dAzmax_min=dAzmax\n",
    "            dgreat_max=dgreat\n",
    "    trajectory_sel=trajectory[imax:imin]\n",
    "    \n",
    "    #Store only the great circle distance for Pinar del Rio\n",
    "    if key==\"pinar\":\n",
    "        print(f\"Initial point of Pinar del Rio: {imin}\")\n",
    "        imin_sel=imin\n",
    "        dgreats_sel=dgreats\n",
    "    \n",
    "    #Geographical trajectory\n",
    "    traj=trajectory_sel #This is the trajectory only for the Vantage point\n",
    "    trajectory_geo=[]\n",
    "    for i,point in enumerate(traj):\n",
    "        lon,lat,alt=spy.recgeo(point,RE,F)\n",
    "        if alt>80:break\n",
    "        trajectory_geo+=[[lon*RAD,lat*RAD,alt]]\n",
    "    trajectory_geo=np.array(trajectory_geo)\n",
    "    \n",
    "    #Build fulltrajectory\n",
    "    vp[\"fulltraj\"]=fulltrajectory=np.concatenate((trajectory,vp[\"theotraj\"]),axis=1)\n",
    "\n",
    "    #Interpolate positions\n",
    "    xfunc=interpolate(fulltrajectory[:,3],fulltrajectory[:,0])\n",
    "    yfunc=interpolate(fulltrajectory[:,3],fulltrajectory[:,1])\n",
    "    zfunc=interpolate(fulltrajectory[:,3],fulltrajectory[:,2])\n",
    "\n",
    "    #Calculate distance cover between observed points\n",
    "    vp[\"spoints\"]=spoints=np.zeros((len(vp[\"obstraj\"]),8))\n",
    "    for i,point in enumerate(vp[\"obstraj\"].values):\n",
    "        Az=point[2]+vp[\"Azref\"]\n",
    "        t=point[4]\n",
    "        intpoint=[float(xfunc(Az)),float(yfunc(Az)),float(zfunc(Az))]\n",
    "        lon,lat,alt=spy.recgeo(intpoint,RE,F)\n",
    "        if i==0:\n",
    "            distance=0\n",
    "        else:\n",
    "            distance=norm(intpoint-spoints[0,:3])\n",
    "        spoints[i]=np.array(intpoint+[distance,t,lon*RAD,lat*RAD,alt])\n",
    "        \n",
    "    #Generate kml trajectory\n",
    "    trajstr=\"\"\n",
    "    polygon=\"\"\n",
    "    polygon+=f\"\t\t\t\t{vplon},{vplat},{vpalt}\\n\"\n",
    "    polygon+=f\"\t\t\t\t{trajectory_geo[0,0]},{trajectory_geo[0,1]},{trajectory_geo[0,2]*1000}\\n\"\n",
    "    polygon+=f\"\t\t\t\t{trajectory_geo[-1,0]},{trajectory_geo[-1,1]},{trajectory_geo[-1,2]*1000}\\n\"\n",
    "    polygon+=f\"\t\t\t\t{vplon},{vplat},{vpalt}\\n\"\n",
    "    for point in trajectory_geo:\n",
    "        trajstr+=f\"\t\t\t\t{point[0]},{point[1]},{point[2]*1000}\\n\"\n",
    "\n",
    "    f=open(BDIR+f\"data/cuba-{key}-Zuluaga_et_al_2019.kml\",\"w\")\n",
    "    f.write(f\"\"\"<?xml version=\"1.0\" encoding=\"UTF-8\"?>\n",
    "<kml xmlns=\"http://www.opengis.net/kml/2.2\" xmlns:gx=\"http://www.google.com/kml/ext/2.2\" xmlns:kml=\"http://www.opengis.net/kml/2.2\" xmlns:atom=\"http://www.w3.org/2005/Atom\">\n",
    "<Document>\n",
    "\t<name>{location} - Cuba Meteor Trajectory, Zuluaga et al. (2019)</name>\n",
    "\t<Style id=\"polygon\">\n",
    "\t\t<LineStyle>\n",
    "\t\t\t<color>7F3611fc</color>\n",
    "\t\t\t<width>0</width>\n",
    "\t\t</LineStyle>\n",
    "\t\t<PolyStyle>\n",
    "            <color>7f{kmlcolor}</color>\n",
    "            <fill>1</fill>\n",
    "\t\t</PolyStyle>\n",
    "\t</Style>\n",
    "\t<Placemark>\n",
    "\t\t<name>Polygon</name>\n",
    "\t\t<styleUrl>polygon</styleUrl>\n",
    "\t\t<Polygon>\n",
    "\t\t\t<altitudeMode>relativeToGround</altitudeMode>\n",
    "\t\t\t<outerBoundaryIs>\n",
    "\t\t\t\t<LinearRing>\n",
    "\t\t\t\t\t<coordinates>\n",
    "                        {polygon}\n",
    "                    </coordinates>\n",
    "\t\t\t\t</LinearRing>\n",
    "\t\t\t</outerBoundaryIs>\n",
    "\t\t</Polygon>\n",
    "\t</Placemark>\n",
    "</Document>\n",
    "</kml>\n",
    "\"\"\")\n",
    "    f.close()"
   ]
  },
  {
   "cell_type": "code",
   "execution_count": 21,
   "metadata": {},
   "outputs": [
    {
     "name": "stdout",
     "output_type": "stream",
     "text": [
      "Angle from top of the pole to explosion: -15.528427356121611 deg\n",
      "Height of the explosion: 27.440996224022168 km\n"
     ]
    }
   ],
   "source": [
    "iexpl=35\n",
    "dexpl=dgreats_sel[iexpl]-dgreats_sel[imin_sel]\n",
    "geoexpl=spy.recgeo(trajectory[iexpl],RE,F)\n",
    "print(f\"Angle from top of the pole to explosion: {dexpl} deg\")\n",
    "print(f\"Height of the explosion: {geoexpl[2]} km\")"
   ]
  },
  {
   "cell_type": "code",
   "execution_count": 34,
   "metadata": {},
   "outputs": [
    {
     "data": {
      "text/html": [
       "<div>\n",
       "<style scoped>\n",
       "    .dataframe tbody tr th:only-of-type {\n",
       "        vertical-align: middle;\n",
       "    }\n",
       "\n",
       "    .dataframe tbody tr th {\n",
       "        vertical-align: top;\n",
       "    }\n",
       "\n",
       "    .dataframe thead th {\n",
       "        text-align: right;\n",
       "    }\n",
       "</style>\n",
       "<table border=\"1\" class=\"dataframe\">\n",
       "  <thead>\n",
       "    <tr style=\"text-align: right;\">\n",
       "      <th></th>\n",
       "      <th>x</th>\n",
       "      <th>y</th>\n",
       "      <th>z</th>\n",
       "      <th>d</th>\n",
       "      <th>t</th>\n",
       "      <th>lon</th>\n",
       "      <th>lat</th>\n",
       "      <th>alt</th>\n",
       "    </tr>\n",
       "  </thead>\n",
       "  <tbody>\n",
       "    <tr>\n",
       "      <th>0</th>\n",
       "      <td>642.806456</td>\n",
       "      <td>-5892.594294</td>\n",
       "      <td>2431.570769</td>\n",
       "      <td>0.000000</td>\n",
       "      <td>0.0</td>\n",
       "      <td>-83.774382</td>\n",
       "      <td>22.438954</td>\n",
       "      <td>31.859677</td>\n",
       "    </tr>\n",
       "    <tr>\n",
       "      <th>1</th>\n",
       "      <td>641.906310</td>\n",
       "      <td>-5888.497600</td>\n",
       "      <td>2434.580740</td>\n",
       "      <td>5.162663</td>\n",
       "      <td>0.0</td>\n",
       "      <td>-83.778741</td>\n",
       "      <td>22.478271</td>\n",
       "      <td>29.155682</td>\n",
       "    </tr>\n",
       "    <tr>\n",
       "      <th>2</th>\n",
       "      <td>641.233232</td>\n",
       "      <td>-5885.434326</td>\n",
       "      <td>2436.831425</td>\n",
       "      <td>9.023008</td>\n",
       "      <td>0.0</td>\n",
       "      <td>-83.782004</td>\n",
       "      <td>22.507691</td>\n",
       "      <td>27.135773</td>\n",
       "    </tr>\n",
       "  </tbody>\n",
       "</table>\n",
       "</div>"
      ],
      "text/plain": [
       "            x            y            z         d    t        lon        lat  \\\n",
       "0  642.806456 -5892.594294  2431.570769  0.000000  0.0 -83.774382  22.438954   \n",
       "1  641.906310 -5888.497600  2434.580740  5.162663  0.0 -83.778741  22.478271   \n",
       "2  641.233232 -5885.434326  2436.831425  9.023008  0.0 -83.782004  22.507691   \n",
       "\n",
       "         alt  \n",
       "0  31.859677  \n",
       "1  29.155682  \n",
       "2  27.135773  "
      ]
     },
     "execution_count": 34,
     "metadata": {},
     "output_type": "execute_result"
    }
   ],
   "source": [
    "#vp=vantagePoints[\"havana\"]\n",
    "vp=vantagePoints[\"pinar\"]\n",
    "#vp=vantagePoints[\"florida\"]\n",
    "pd.DataFrame(vp[\"spoints\"],columns=[\"x\",\"y\",\"z\",\"d\",\"t\",\"lon\",\"lat\",\"alt\"])"
   ]
  },
  {
   "cell_type": "markdown",
   "metadata": {},
   "source": [
    "### Generate initial conditions for gravitational ray tracing"
   ]
  },
  {
   "cell_type": "code",
   "execution_count": 23,
   "metadata": {},
   "outputs": [
    {
     "data": {
      "text/plain": [
       "array([-83.82644838,  22.90718073,  31.13384843, 174.09842479,\n",
       "       193.1647218 ])"
      ]
     },
     "execution_count": 23,
     "metadata": {},
     "output_type": "execute_result"
    }
   ],
   "source": [
    "solution.x"
   ]
  },
  {
   "cell_type": "code",
   "execution_count": 24,
   "metadata": {},
   "outputs": [],
   "source": [
    "#Solution\n",
    "lon=solution.x[0];dlonp=+0.05;dlonm=-0.05\n",
    "lat=solution.x[1];dlatp=+0.05;dlatm=-0.05\n",
    "Azrad=solution.x[3];dAzradp=+5.0;dAzradm=-5.0\n",
    "hrad=solution.x[2];dhradp=+1.0;dhradm=-1.0\n",
    "vimp=vimp;dvimpp=+0.5;dvimpm=-0.5"
   ]
  },
  {
   "cell_type": "code",
   "execution_count": 25,
   "metadata": {},
   "outputs": [],
   "source": [
    "#Generate GRT files\n",
    "N=20\n",
    "\n",
    "#Velocities\n",
    "f=open(\"data/velocities.dat.cuba_error\",\"w\")\n",
    "vmax=vimp+dvimpp\n",
    "vmin=vimp+dvimpm\n",
    "for i in range(N):\n",
    "    v=vmin+(vmax-vmin)*np.random.rand()\n",
    "    f.write(f\"{v}\\t-1\\n\")\n",
    "f.close()\n",
    "\n",
    "#Directions\n",
    "f=open(\"data/directions.dat.cuba_error\",\"w\")\n",
    "Azradmax=Azrad+dAzradp\n",
    "Azradmin=Azrad+dAzradm\n",
    "hradmax=hrad+dhradp\n",
    "hradmin=hrad+dhradm\n",
    "for i in range(N):\n",
    "    Az=Azradmin+(Azradmax-Azradmin)*np.random.rand()\n",
    "    h=hradmin+(hradmax-hradmin)*np.random.rand()\n",
    "    f.write(f\"-1\\t-1\\t{Az}\\t{h}\\n\")\n",
    "f.close()\n",
    "\n",
    "#Locations\n",
    "f=open(\"data/locations.dat.cuba_error\",\"w\")\n",
    "lonmax=lon+dlonp\n",
    "lonmin=lon+dlonm\n",
    "latmax=lat+dlatp\n",
    "latmin=lat+dlatm\n",
    "for i in range(N):\n",
    "    lon=lonmin+(lonmax-lonmin)*np.random.rand()\n",
    "    lat=latmin+(latmax-latmin)*np.random.rand()\n",
    "    f.write(f\"-1\\t-1\\t{lon}\\t{lat}\\n\")\n",
    "f.close()"
   ]
  },
  {
   "cell_type": "code",
   "execution_count": 26,
   "metadata": {},
   "outputs": [],
   "source": [
    "#After running the GRT read all rays\n",
    "#direrror=\"data/grt-Cuba_error-20190201181700-BE1E80/\"\n",
    "direrror=\"data/grt-Cuba_error-20190201181700-F57162/\"\n",
    "#direrror=\"data/grt-Cuba_error-20190201181700-D78859/\"\n",
    "#direrror=\"data/grt-Cuba_error-20190201181700-B71477/\"\n",
    "\n",
    "for i,physfile in enumerate(glob(f\"{direrror}/*.phys\")):\n",
    "    data=np.loadtxt(physfile)\n",
    "    if i==0:\n",
    "        alldata=data\n",
    "    else:\n",
    "        alldata=np.concatenate((alldata,data),axis=0)\n",
    "\n",
    "#Compute semimajor axis, period and Tisserand parameter\n",
    "aes=alldata[:,9]/(1-alldata[:,10])\n",
    "Ps=aes**1.5\n",
    "Tps=1/aes+2*np.cos(alldata[:,11]*DEG)*np.sqrt(aes*(1-alldata[:,10]**2))\n",
    "alldata=np.column_stack((alldata,aes,Ps,Tps))\n",
    "#alldata=np.append(alldata,Ps)\n",
    "#alldata=np.append(alldata,Tps)\n",
    "        \n",
    "#Perform analysis\n",
    "percentiles=np.percentile(alldata,[15,50,85],axis=0)"
   ]
  },
  {
   "cell_type": "code",
   "execution_count": 27,
   "metadata": {},
   "outputs": [
    {
     "data": {
      "text/plain": [
       "(997, 19)"
      ]
     },
     "execution_count": 27,
     "metadata": {},
     "output_type": "execute_result"
    }
   ],
   "source": [
    "alldata.shape"
   ]
  },
  {
   "cell_type": "code",
   "execution_count": 28,
   "metadata": {},
   "outputs": [
    {
     "name": "stdout",
     "output_type": "stream",
     "text": [
      "a = 1.24, da = 0.061,\n",
      "q = 0.81, dq = 0.021,\n",
      "e = 0.34, de = 0.02,\n",
      "i = 10.98, di = 0.31,\n",
      "W = 132.33, dW = 0.065,\n",
      "o = 288.44, do = 7.6,\n",
      "P = 1.37, dP = 0.1,\n",
      "Tp = 2.86, dTp = 0.011,\n"
     ]
    }
   ],
   "source": [
    "props=[\n",
    "    dict(\n",
    "        name=\"a\",\n",
    "        symbol=\"a\",\n",
    "        units=\"AU\",\n",
    "        ind=16,\n",
    "    ),\n",
    "    dict(\n",
    "        name=\"q\",\n",
    "        symbol=\"q\",\n",
    "        units=\"AU\",\n",
    "        ind=9,\n",
    "    ),\n",
    "    dict(\n",
    "        name=\"e\",\n",
    "        symbol=\"e\",\n",
    "        units=\"AU\",\n",
    "        ind=10,\n",
    "    ),\n",
    "    dict(\n",
    "        name=\"i\",\n",
    "        symbol=\"i\",\n",
    "        units=\"AU\",\n",
    "        ind=11,\n",
    "    ),\n",
    "    dict(\n",
    "        name=\"W\",\n",
    "        symbol=\"\\Omega\",\n",
    "        units=\"AU\",\n",
    "        ind=12,\n",
    "    ),\n",
    "    dict(\n",
    "        name=\"o\",\n",
    "        symbol=\"\\omega\",\n",
    "        units=\"AU\",\n",
    "        ind=13,\n",
    "    ),\n",
    "    dict(\n",
    "        name=\"P\",\n",
    "        symbol=\"P\",\n",
    "        units=\"yr\",\n",
    "        ind=17,\n",
    "    ),\n",
    "    dict(\n",
    "        name=\"Tp\",\n",
    "        symbol=\"T_p\",\n",
    "        units=\"adim.\",\n",
    "        ind=18,\n",
    "    ),\n",
    "]\n",
    "pmeds=dict()\n",
    "for prop in props:\n",
    "    name=prop[\"name\"]\n",
    "    pmin,pmed,pmax=percentiles[:,prop[\"ind\"]]\n",
    "    pmeds[name]=pmed\n",
    "    dpp=pmax-pmed;dpm=pmed-pmin\n",
    "    print(f\"{name} = {pmed:.2f}, d{name} = {(dpp+dpm)/2:.2g},\")"
   ]
  },
  {
   "cell_type": "code",
   "execution_count": 29,
   "metadata": {},
   "outputs": [
    {
     "name": "stdout",
     "output_type": "stream",
     "text": [
      "{'a': 1.2234317984738947, 'q': 0.813247381792002, 'e': 0.33527362718016285, 'i': 11.10188016699527, 'W': 132.3178924911708, 'o': 288.44523380106244, 'P': 1.3532238586663896, 'Tp': 2.8625090462864877}\n",
      "{'a': 1.2364761946789014, 'q': 0.8105888738489356, 'e': 0.3425416502267674, 'i': 10.977973477132167, 'W': 132.32748484729666, 'o': 288.44387020687884, 'P': 1.3749238302748583, 'Tp': 2.859912928150784}\n"
     ]
    }
   ],
   "source": [
    "#Look for the closest trajectory\n",
    "minsum=1e100\n",
    "minelementos=None\n",
    "for data in alldata:\n",
    "    #print(data)\n",
    "    suma=0\n",
    "    elementos=dict()\n",
    "    for prop in props:\n",
    "        name=prop[\"name\"]\n",
    "        if name==\"a\":factor=1.0\n",
    "        else:factor=1.0\n",
    "        col=prop[\"ind\"]\n",
    "        val=data[col]\n",
    "        suma+=factor*(val-pmeds[name])**2\n",
    "        elementos[name]=val\n",
    "        #print(f\"{name} = {data[col]}, ref = {pmeds[name]}\")\n",
    "    suma=np.sqrt(suma)\n",
    "    if suma<minsum:\n",
    "        minsum=suma\n",
    "        minelementos=elementos\n",
    "        \n",
    "print(minelementos)\n",
    "print(pmeds)"
   ]
  },
  {
   "cell_type": "code",
   "execution_count": 30,
   "metadata": {},
   "outputs": [
    {
     "name": "stdout",
     "output_type": "stream",
     "text": [
      "$a$ (AU) & $1.22^{+0.036}_{-0.087}$\\\\\n",
      "$q$ (AU) & $0.81^{+0.012}_{-0.03}$\\\\\n",
      "$e$ (AU) & $0.34^{+0.017}_{-0.022}$\\\\\n",
      "$i$ (AU) & $11.10^{+0.27}_{-0.36}$\\\\\n",
      "$\\Omega$ (AU) & $132.32^{+0.03}_{-0.099}$\\\\\n",
      "$\\omega$ (AU) & $288.45^{+4.3}_{-11}$\\\\\n",
      "$P$ (yr) & $1.35^{+0.06}_{-0.14}$\\\\\n",
      "$T_p$ (adim.) & $2.86^{+0.011}_{-0.01}$\\\\\n"
     ]
    }
   ],
   "source": [
    "for prop in props:\n",
    "    name=prop[\"name\"]\n",
    "    pmin,pmed,pmax=percentiles[:,prop[\"ind\"]]\n",
    "    dpp=pmax-pmed;dpm=pmed-pmin\n",
    "    pmed=minelementos[name]\n",
    "    print(f\"${prop['symbol']}$ ({prop['units']}) & ${pmed:.2f}^\"+\"{\"+f\"+{dpp:.2g}\"+\"}_{\"+f\"-{dpm:.2g}\"+\"}$\\\\\\\\\")"
   ]
  },
  {
   "cell_type": "markdown",
   "metadata": {},
   "source": [
    "### Mass and size of the rock"
   ]
  },
  {
   "cell_type": "code",
   "execution_count": 31,
   "metadata": {},
   "outputs": [],
   "source": [
    "KTON=4.184e12 #J\n",
    "\n",
    "#Estimated airburst energy\n",
    "E=1.4*KTON #according to NASA Fireball database\n",
    "\n",
    "#Luminous efficiency\n",
    "eta=0.1"
   ]
  },
  {
   "cell_type": "code",
   "execution_count": 32,
   "metadata": {},
   "outputs": [],
   "source": [
    "#Kinetic energy\n",
    "K=E/eta"
   ]
  },
  {
   "cell_type": "code",
   "execution_count": 33,
   "metadata": {},
   "outputs": [
    {
     "name": "stdout",
     "output_type": "stream",
     "text": [
      "Mass of the impactor: 490 tons\n",
      "Diameter of the impactor: 7 m\n"
     ]
    }
   ],
   "source": [
    "#Mass\n",
    "M=2*K/(vimp*1e3)**2\n",
    "print(f\"Mass of the impactor: {M/1000:.0f} tons\")\n",
    "\n",
    "#Estimated density\n",
    "rho=2600 #kg/m^2\n",
    "\n",
    "#Diameter\n",
    "D=2*(3*M/(4*np.pi*rho))**(1/3)\n",
    "print(f\"Diameter of the impactor: {D:.0f} m\")"
   ]
  },
  {
   "cell_type": "code",
   "execution_count": null,
   "metadata": {},
   "outputs": [],
   "source": []
  }
 ],
 "metadata": {
  "kernelspec": {
   "display_name": "Python 3",
   "language": "python",
   "name": "python3"
  },
  "language_info": {
   "codemirror_mode": {
    "name": "ipython",
    "version": 3
   },
   "file_extension": ".py",
   "mimetype": "text/x-python",
   "name": "python",
   "nbconvert_exporter": "python",
   "pygments_lexer": "ipython3",
   "version": "3.6.8"
  }
 },
 "nbformat": 4,
 "nbformat_minor": 2
}
